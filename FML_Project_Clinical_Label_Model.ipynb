{
  "cells": [
    {
      "cell_type": "code",
      "source": [
        "/storage/ice1/shared/d-pace_community/makerspace-datasets/MEDICAL/OLIVES"
      ],
      "metadata": {
        "id": "Gqkwy_UMieJL"
      },
      "execution_count": null,
      "outputs": []
    },
    {
      "cell_type": "code",
      "source": [
        "import numpy as np\n",
        "from sklearn.model_selection import train_test_split\n",
        "from torch.utils.data import Dataset, DataLoader\n",
        "import torch\n",
        "from torch.autograd import Variable\n",
        "\n",
        "data = np.genfromtxt('/content/Biomarker_Clinical_Data_Images.csv', delimiter=',', skip_header=1, usecols=(2,3,4,5,6,7,8,9,10,11,12,13,14,15,16,17,18,19,20))\n",
        "\n",
        "with_headers = np.genfromtxt('/content/Biomarker_Clinical_Data_Images.csv', delimiter=',', names=True, usecols=(2,3,4,5,6,7,8,9,10,11,12,13,14,15,16,17,18,19,20))\n",
        "\n",
        "avgArr = np.zeros([int(data.shape[0]/49), data.shape[1]])\n",
        "\n",
        "for i in range(0, int(data.shape[0]/49)):\n",
        "  start = 49*i+1\n",
        "  scans = data[start:start+48,:]\n",
        "  avgArr[i] = scans.mean(axis=0)\n",
        "\n",
        "np.set_printoptions(precision=3, suppress=True)\n",
        "\n",
        "presence = np.ceil(avgArr)\n",
        "\n",
        "biomarkerAvg, temp = np.hsplit(avgArr, np.array([16]))\n",
        "__, scores = np.hsplit(temp, np.array([1]))\n",
        "biomarkerPresence, __ = np.hsplit(presence, np.array([16]))\n",
        "\n",
        "avg_train, avg_test, score_train, score_test = train_test_split(biomarkerAvg, scores, train_size = 150, test_size=42, random_state=0)\n",
        "presence_train, presence_test, __, __ = train_test_split(biomarkerPresence, scores, train_size = 150, test_size=42, random_state=0)\n",
        "\n",
        "score_train = (score_train - score_train.min(0))/score_train.ptp(0)\n",
        "score_test = (score_test - score_test.min(0))/score_test.ptp(0)\n",
        "\n"
      ],
      "metadata": {
        "id": "RDZ7l291AiNG"
      },
      "execution_count": 26,
      "outputs": []
    },
    {
      "cell_type": "code",
      "source": [
        "torch_avg_train = Variable(torch.from_numpy(avg_train).float())\n",
        "torch_avg_test = Variable(torch.from_numpy(avg_test).float())\n",
        "torch_presence_train = Variable(torch.from_numpy(presence_train).float())\n",
        "torch_presence_test = Variable(torch.from_numpy(presence_test).float())\n",
        "torch_score_train = Variable(torch.from_numpy(score_train).float())\n",
        "torch_score_test = Variable(torch.from_numpy(score_test).float())\n",
        "\n",
        "class FullLinearRegressionModel(torch.nn.Module):\n",
        "    def __init__(self):\n",
        "        super(FullLinearRegressionModel, self).__init__()\n",
        "        self.linear = torch.nn.Linear(2, 4)\n",
        "        self.relu = torch.nn.ReLU()\n",
        "        self.linear2 = torch.nn.Linear(4, 16)\n",
        "    def forward(self, x):\n",
        "        X = self.linear(x)\n",
        "        X2 = self.relu(X)\n",
        "        y_pred = self.linear2(X2)\n",
        "        return y_pred"
      ],
      "metadata": {
        "id": "m8e5z2fUFh6k"
      },
      "execution_count": 51,
      "outputs": []
    },
    {
      "cell_type": "code",
      "source": [
        "class SingleLinearRegressionModel(torch.nn.Module):\n",
        "    def __init__(self):\n",
        "        super(SingleLinearRegressionModel, self).__init__()\n",
        "        self.linear = torch.nn.Linear(2, 1)\n",
        "    def forward(self, x):\n",
        "        y_pred = self.linear(x)\n",
        "        return y_pred"
      ],
      "metadata": {
        "id": "ou18SWFfsgrW"
      },
      "execution_count": 49,
      "outputs": []
    },
    {
      "cell_type": "code",
      "source": [
        "del model\n",
        "model = FullLinearRegressionModel()\n",
        "loss_fn = torch.nn.MSELoss()\n",
        "optimizer = torch.optim.SGD(model.parameters(), lr = 0.01)"
      ],
      "metadata": {
        "id": "hQUKx984bBWW"
      },
      "execution_count": null,
      "outputs": []
    },
    {
      "cell_type": "code",
      "source": [
        "for epoch in range(5000):\n",
        "\n",
        "    # Forward pass: Compute predicted y by passing\n",
        "    # x to the model\n",
        "    pred_y = model(torch_score_train)\n",
        "\n",
        "    # Compute and print loss\n",
        "    loss = loss_fn(pred_y, torch_presence_train)\n",
        "\n",
        "    # Zero gradients, perform a backward pass,\n",
        "    # and update the weights.\n",
        "    optimizer.zero_grad()\n",
        "    loss.backward()\n",
        "    optimizer.step()\n",
        "    if (epoch % 20 == 0):\n",
        "      print('epoch {}, loss {}'.format(epoch, loss.item()))\n",
        "\n",
        "test_pred = model(torch_score_test)\n",
        "np.set_printoptions(precision=3, suppress=True)\n",
        "torch.set_printoptions(threshold=10_000)\n",
        "print(test_pred)"
      ],
      "metadata": {
        "id": "qipi2VvuNUa-"
      },
      "execution_count": null,
      "outputs": []
    },
    {
      "cell_type": "code",
      "source": [
        "for i in range(0,16):\n",
        "  del singleModel\n",
        "  print(with_headers.dtype.names[i])\n",
        "  biomarker = biomarkerPresence[:,i].reshape(-1,1)\n",
        "\n",
        "  bio_train, bio_test, __, __ = train_test_split(biomarker, scores, train_size = 150, test_size=42, random_state=0)\n",
        "\n",
        "  torch_bio_train = Variable(torch.from_numpy(bio_train).float())\n",
        "  torch_bio_test = Variable(torch.from_numpy(bio_test).float())\n",
        "\n",
        "  singleModel = SingleLinearRegressionModel()\n",
        "  loss_fn = torch.nn.MSELoss()\n",
        "  optimizer = torch.optim.SGD(singleModel.parameters(), lr = 0.01)\n",
        "  for epoch in range(100):\n",
        "    pred_y = singleModel(torch_score_train)\n",
        "    loss = loss_fn(pred_y, torch_bio_train)\n",
        "    optimizer.zero_grad()\n",
        "    loss.backward()\n",
        "    optimizer.step()\n",
        "    #if (epoch % 50 == 0):\n",
        "    #  print('epoch {}, loss {}'.format(epoch, loss.item()))\n",
        "  pred = singleModel(torch_score_test)\n",
        "  loss = loss_fn(pred, torch_bio_test)\n",
        "  print(loss)"
      ],
      "metadata": {
        "colab": {
          "base_uri": "https://localhost:8080/"
        },
        "id": "vNakc_-O7dOJ",
        "outputId": "e1bedf18-e564-41d5-96d7-0a80393a222c"
      },
      "execution_count": 66,
      "outputs": [
        {
          "output_type": "stream",
          "name": "stdout",
          "text": [
            "Atrophy__thinning_of_retinal_layers\n",
            "tensor(0.0915, grad_fn=<MseLossBackward0>)\n",
            "Disruption_of_EZ\n",
            "tensor(0.2100, grad_fn=<MseLossBackward0>)\n",
            "DRIL\n",
            "tensor(0.0253, grad_fn=<MseLossBackward0>)\n",
            "IR_hemorrhages\n",
            "tensor(0.3031, grad_fn=<MseLossBackward0>)\n",
            "IR_HRF\n",
            "tensor(0.0301, grad_fn=<MseLossBackward0>)\n",
            "Partially_attached_vitreous_face\n",
            "tensor(0.2425, grad_fn=<MseLossBackward0>)\n",
            "Fully_attached_vitreous_face\n",
            "tensor(0.2838, grad_fn=<MseLossBackward0>)\n",
            "Preretinal_tissuehemorrhage\n",
            "tensor(0.1907, grad_fn=<MseLossBackward0>)\n",
            "Vitreous_debris\n",
            "tensor(0.0731, grad_fn=<MseLossBackward0>)\n",
            "VMT\n",
            "tensor(0.0675, grad_fn=<MseLossBackward0>)\n",
            "DRTME\n",
            "tensor(0.3008, grad_fn=<MseLossBackward0>)\n",
            "Fluid_IRF\n",
            "tensor(0.1758, grad_fn=<MseLossBackward0>)\n",
            "Fluid_SRF\n",
            "tensor(0.1012, grad_fn=<MseLossBackward0>)\n",
            "Disruption_of_RPE\n",
            "tensor(0.0323, grad_fn=<MseLossBackward0>)\n",
            "PED_serous\n",
            "tensor(0.0040, grad_fn=<MseLossBackward0>)\n",
            "SHRM\n",
            "tensor(0.1430, grad_fn=<MseLossBackward0>)\n"
          ]
        }
      ]
    }
  ],
  "metadata": {
    "colab": {
      "provenance": []
    },
    "kernelspec": {
      "display_name": "Python 3",
      "name": "python3"
    }
  },
  "nbformat": 4,
  "nbformat_minor": 0
}