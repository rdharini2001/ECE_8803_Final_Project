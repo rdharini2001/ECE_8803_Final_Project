{
 "cells": [
  {
   "cell_type": "markdown",
   "id": "5e0b6148",
   "metadata": {},
   "source": [
    "# Biomarker detection in OLIVES using pretrained Models\n",
    "\n",
    "\n",
    "### Step 1: Import data\n",
    "Consistent for all models. Only change output size!"
   ]
  },
  {
   "cell_type": "code",
   "execution_count": 11,
   "id": "98eb93d4",
   "metadata": {
    "scrolled": true
   },
   "outputs": [],
   "source": [
    "import os\n",
    "import pandas as pd\n",
    "from PIL import Image\n",
    "import torch\n",
    "import torch.nn as nn\n",
    "import torch.optim as optim\n",
    "from torch.optim.lr_scheduler import ExponentialLR\n",
    "from torch.utils.data import Dataset, Subset, DataLoader\n",
    "from torchvision import transforms, models\n",
    "from sklearn.model_selection import train_test_split\n",
    "from sklearn.model_selection import KFold\n",
    "from sklearn.metrics import accuracy_score, f1_score, classification_report\n",
    "import numpy as np\n",
    "from tqdm import tqdm\n",
    "import matplotlib.pyplot as plt\n",
    "\n",
    "# set the size of the image according to your model needs\n",
    "imageSize = 224 # ResNet works with 224x224 pixels\n",
    "\n",
    "# Custom Dataset\n",
    "class BiomarkerDataset(Dataset):\n",
    "    def __init__(self, label_file, transform=None, num_frames=0):\n",
    "        \"\"\"\n",
    "        Args:\n",
    "            label_file (str): Path to the CSV file.\n",
    "            transform (callable, optional): Transform to be applied on a sample.\n",
    "            num_frames (int): Number of adjacent frames to use in the input sequence (1 adjacent frame -> 3 consecutive images).\n",
    "        \"\"\"\n",
    "        self.data = pd.read_csv(label_file)\n",
    "        self.transform = transform\n",
    "        self.num_frames = num_frames\n",
    "        \n",
    "        # Exclude indices which don't have enough adjacent images\n",
    "        self.valid_indices = self.data[(self.data.iloc[:, 1] > num_frames) & (self.data.iloc[:, 1] < (50-num_frames))].index.tolist()\n",
    "\n",
    "    def __len__(self):\n",
    "        # we can't use the length of the data since we have to exclude the first and last image (for num_frames=1) of each OCT scan\n",
    "        return len(self.valid_indices)\n",
    "\n",
    "    def __getitem__(self, idx):\n",
    "        \n",
    "        # Base path\n",
    "        img_base_path = '/storage/ice1/shared/d-pace_community/makerspace-datasets/MEDICAL/OLIVES/OLIVES'\n",
    "        \n",
    "        # Get the actual data index\n",
    "        index = self.valid_indices[idx]\n",
    "        \n",
    "        # Initialize\n",
    "        images = []\n",
    "        \n",
    "        # Load a sequence of consecutive images\n",
    "        for i in range(index - self.num_frames, index + self.num_frames +1):\n",
    "            img_path = img_base_path + self.data.iloc[i, 0]\n",
    "            img = Image.open(img_path).convert(\"L\") # 'L' is for grayscale; can be removed!?\n",
    "            \n",
    "            if self.transform is not None:\n",
    "                # apply data transformations (transforms it to tensor)\n",
    "                img = self.transform(img)\n",
    "            \n",
    "            # stack torch tensor\n",
    "            img = img.squeeze(0)  # Removes the first dimension if it's 1\n",
    "            images.append(img)\n",
    "        \n",
    "        # Stack the 3 grayscale images along the channel dimension\n",
    "        # Resulting tensor shape will be [3, H, W]\n",
    "        images = torch.stack(images, dim=0)\n",
    "        # print(images.shape) # debugging\n",
    "        \n",
    "        # Biomarker columns\n",
    "        labels = torch.tensor(self.data.iloc[index, 2:18].astype(float), dtype=torch.float32)\n",
    "        \n",
    "        # Get clinical data:\n",
    "        eye_id = self.data.iloc[index, 18]\n",
    "        bcva = self.data.iloc[index, 19]\n",
    "        cst = self.data.iloc[index, 20]\n",
    "        patient_id = self.data.iloc[index, 21]\n",
    "\n",
    "        # Convert clinical data to tensor\n",
    "        clinical_data = torch.tensor([eye_id, bcva, cst, patient_id], dtype=torch.float32)\n",
    "        \n",
    "        return images, labels, clinical_data\n",
    "    \n",
    "    \n",
    "# Define transformers\n",
    "\n",
    "# Values for normalization taken from example paper\n",
    "mean = 0.1706\n",
    "std = 0.2112\n",
    "\n",
    "# train with data augmentation\n",
    "train_transformer = transforms.Compose([\n",
    "    # WORSE PERFORMANCE # transforms.RandomPerspective(distortion_scale=0.1, p=0.5, fill=0),  # Add perspective shift\n",
    "    # WORSE PERFORMANCE # transforms.RandomResizedCrop(size=imageSize, scale=(0.9, 1.0)), # RandomCrop between 70% to 100% of original size\n",
    "    transforms.ColorJitter(brightness=0.2, contrast=0.2, saturation=0.2, hue=0.1),  # Adjust color properties\n",
    "    transforms.RandomHorizontalFlip(p=0.5),  # Random horizontal flip\n",
    "    transforms.RandomRotation(degrees=10, fill=0),  # Rotates randomly between + and - degree and fills new pixels with black\n",
    "    transforms.Resize(imageSize), # Resize to models needs\n",
    "    transforms.ToTensor(),  # Convert image to tensor\n",
    "    transforms.Normalize(mean, std) # we have to calculate these values for our dataset\n",
    "])\n",
    "# train without data augmentation\n",
    "test_transformer = transforms.Compose([   \n",
    "    transforms.Resize(imageSize), # Resize to models needs\n",
    "    transforms.CenterCrop(imageSize), # shouldn't do anything\n",
    "    transforms.ToTensor(),\n",
    "    transforms.Normalize(mean, std)\n",
    "])\n",
    "\n",
    "\n",
    "\n",
    "# set up train loader (just example since cross validation uses new ones)\n",
    "train_dataset = BiomarkerDataset(label_file='OLIVES_Dataset_Labels/BiomarkerLabel_train_data.csv', transform=train_transformer, num_frames=1)\n",
    "trainloader = DataLoader(train_dataset, batch_size=64, shuffle=True, num_workers=4, drop_last=True, pin_memory=True)\n",
    "\n",
    "# set up test loader (this one actually is being used)\n",
    "test_dataset = BiomarkerDataset(label_file='OLIVES_Dataset_Labels/BiomarkerLabel_train_data.csv', transform=test_transformer, num_frames=1)\n",
    "testloader = DataLoader(test_dataset, batch_size=64, shuffle=False, num_workers=32, pin_memory=True)\n"
   ]
  },
  {
   "cell_type": "markdown",
   "id": "d64dc221",
   "metadata": {},
   "source": [
    "### Step 2: Train model\n",
    "First we initialize our model as well as some training parameters."
   ]
  },
  {
   "cell_type": "code",
   "execution_count": 2,
   "id": "a687101b",
   "metadata": {
    "scrolled": true
   },
   "outputs": [],
   "source": [
    "## --- Settings ---\n",
    "num_epochs=35\n",
    "batch_size=64\n",
    "num_workers=32 # need this amount of CPUs for parallel data loading\n",
    "k_folds=5\n",
    "patience=7  # Number of epochs to wait for improvement\n",
    "\n",
    "# get to cuda\n",
    "device = torch.device('cuda' if torch.cuda.is_available() else 'cpu')\n",
    "\n",
    "## ---- Model ----\n",
    "# Import pretrained model (choose one of them based on performance)\n",
    "# model = models.resnet50(pretrained=True)\n",
    "model = models.resnet50(weights=models.ResNet50_Weights.DEFAULT) # this is like pre-trained true\n",
    "model.name = \"ResNet50\"\n",
    "# Adapt it to the given task (update final layer)\n",
    "model.fc = nn.Linear(model.fc.in_features, 16)  # Number of output classes: 16 (biomarkers)\n",
    "# shift to GPU\n",
    "model = model.to(device)\n",
    "\n",
    "# Loss function, optimizer nad Learning rate sheduler\n",
    "loss_fn = nn.BCEWithLogitsLoss()  # For multi-label classification\n",
    "optimizer = optim.Adam(model.parameters(), lr=1e-4)\n",
    "# optimizer = optim.Adam(model.parameters(), lr=1e-5, weight_decay=0.9) # NOT GOOD: This set every f1 score to 0!!\n",
    "    # weight decay to reduce overfitting \n",
    "scheduler = ExponentialLR(optimizer, gamma=0.9)\n",
    "\n",
    "# Creates all needed folders to store the model weights if they don't exist already\n",
    "os.makedirs(\"ModelWeights_TempSaves\", exist_ok=True)\n",
    "os.makedirs(f\"TrainedModels/{model.name}\", exist_ok=True)\n",
    "\n"
   ]
  },
  {
   "cell_type": "markdown",
   "id": "413565f5",
   "metadata": {},
   "source": [
    "Now we go over to the training process where we do a cross-validation."
   ]
  },
  {
   "cell_type": "code",
   "execution_count": 3,
   "id": "09b99731",
   "metadata": {
    "scrolled": true
   },
   "outputs": [
    {
     "name": "stdout",
     "output_type": "stream",
     "text": [
      "Fold 1/5\n",
      "Epoch 1/35\n"
     ]
    },
    {
     "name": "stderr",
     "output_type": "stream",
     "text": [
      "Training: 100%|██████████| 90/90 [00:07<00:00, 12.06it/s]"
     ]
    },
    {
     "name": "stdout",
     "output_type": "stream",
     "text": [
      "Train Loss: 0.3022\n"
     ]
    },
    {
     "name": "stderr",
     "output_type": "stream",
     "text": [
      "\n"
     ]
    },
    {
     "name": "stdout",
     "output_type": "stream",
     "text": [
      "Validation Loss: 0.2027, Validation F1: 0.6633\n",
      "Epoch 2/35\n"
     ]
    },
    {
     "name": "stderr",
     "output_type": "stream",
     "text": [
      "Training: 100%|██████████| 90/90 [00:05<00:00, 15.97it/s]"
     ]
    },
    {
     "name": "stdout",
     "output_type": "stream",
     "text": [
      "Train Loss: 0.1760\n"
     ]
    },
    {
     "name": "stderr",
     "output_type": "stream",
     "text": [
      "\n"
     ]
    },
    {
     "name": "stdout",
     "output_type": "stream",
     "text": [
      "Validation Loss: 0.1673, Validation F1: 0.7838\n",
      "Epoch 3/35\n"
     ]
    },
    {
     "name": "stderr",
     "output_type": "stream",
     "text": [
      "Training: 100%|██████████| 90/90 [00:05<00:00, 15.74it/s]"
     ]
    },
    {
     "name": "stdout",
     "output_type": "stream",
     "text": [
      "Train Loss: 0.1415\n"
     ]
    },
    {
     "name": "stderr",
     "output_type": "stream",
     "text": [
      "\n"
     ]
    },
    {
     "name": "stdout",
     "output_type": "stream",
     "text": [
      "Validation Loss: 0.1404, Validation F1: 0.8128\n",
      "Epoch 4/35\n"
     ]
    },
    {
     "name": "stderr",
     "output_type": "stream",
     "text": [
      "Training: 100%|██████████| 90/90 [00:05<00:00, 15.79it/s]"
     ]
    },
    {
     "name": "stdout",
     "output_type": "stream",
     "text": [
      "Train Loss: 0.1223\n"
     ]
    },
    {
     "name": "stderr",
     "output_type": "stream",
     "text": [
      "\n"
     ]
    },
    {
     "name": "stdout",
     "output_type": "stream",
     "text": [
      "Validation Loss: 0.1276, Validation F1: 0.8330\n",
      "Epoch 5/35\n"
     ]
    },
    {
     "name": "stderr",
     "output_type": "stream",
     "text": [
      "Training: 100%|██████████| 90/90 [00:05<00:00, 15.73it/s]"
     ]
    },
    {
     "name": "stdout",
     "output_type": "stream",
     "text": [
      "Train Loss: 0.1071\n"
     ]
    },
    {
     "name": "stderr",
     "output_type": "stream",
     "text": [
      "\n"
     ]
    },
    {
     "name": "stdout",
     "output_type": "stream",
     "text": [
      "Validation Loss: 0.1153, Validation F1: 0.8524\n",
      "Epoch 6/35\n"
     ]
    },
    {
     "name": "stderr",
     "output_type": "stream",
     "text": [
      "Training: 100%|██████████| 90/90 [00:05<00:00, 15.88it/s]"
     ]
    },
    {
     "name": "stdout",
     "output_type": "stream",
     "text": [
      "Train Loss: 0.0983\n"
     ]
    },
    {
     "name": "stderr",
     "output_type": "stream",
     "text": [
      "\n"
     ]
    },
    {
     "name": "stdout",
     "output_type": "stream",
     "text": [
      "Validation Loss: 0.1061, Validation F1: 0.8739\n",
      "Epoch 7/35\n"
     ]
    },
    {
     "name": "stderr",
     "output_type": "stream",
     "text": [
      "Training: 100%|██████████| 90/90 [00:05<00:00, 15.79it/s]"
     ]
    },
    {
     "name": "stdout",
     "output_type": "stream",
     "text": [
      "Train Loss: 0.0895\n"
     ]
    },
    {
     "name": "stderr",
     "output_type": "stream",
     "text": [
      "\n"
     ]
    },
    {
     "name": "stdout",
     "output_type": "stream",
     "text": [
      "Validation Loss: 0.1004, Validation F1: 0.8792\n",
      "Epoch 8/35\n"
     ]
    },
    {
     "name": "stderr",
     "output_type": "stream",
     "text": [
      "Training: 100%|██████████| 90/90 [00:05<00:00, 16.15it/s]"
     ]
    },
    {
     "name": "stdout",
     "output_type": "stream",
     "text": [
      "Train Loss: 0.0827\n"
     ]
    },
    {
     "name": "stderr",
     "output_type": "stream",
     "text": [
      "\n"
     ]
    },
    {
     "name": "stdout",
     "output_type": "stream",
     "text": [
      "Validation Loss: 0.0978, Validation F1: 0.8848\n",
      "Epoch 9/35\n"
     ]
    },
    {
     "name": "stderr",
     "output_type": "stream",
     "text": [
      "Training: 100%|██████████| 90/90 [00:05<00:00, 16.06it/s]"
     ]
    },
    {
     "name": "stdout",
     "output_type": "stream",
     "text": [
      "Train Loss: 0.0764\n"
     ]
    },
    {
     "name": "stderr",
     "output_type": "stream",
     "text": [
      "\n"
     ]
    },
    {
     "name": "stdout",
     "output_type": "stream",
     "text": [
      "Validation Loss: 0.0940, Validation F1: 0.8862\n",
      "Epoch 10/35\n"
     ]
    },
    {
     "name": "stderr",
     "output_type": "stream",
     "text": [
      "Training: 100%|██████████| 90/90 [00:05<00:00, 16.48it/s]"
     ]
    },
    {
     "name": "stdout",
     "output_type": "stream",
     "text": [
      "Train Loss: 0.0736\n"
     ]
    },
    {
     "name": "stderr",
     "output_type": "stream",
     "text": [
      "\n"
     ]
    },
    {
     "name": "stdout",
     "output_type": "stream",
     "text": [
      "Validation Loss: 0.0928, Validation F1: 0.8903\n",
      "Epoch 11/35\n"
     ]
    },
    {
     "name": "stderr",
     "output_type": "stream",
     "text": [
      "Training: 100%|██████████| 90/90 [00:05<00:00, 16.07it/s]"
     ]
    },
    {
     "name": "stdout",
     "output_type": "stream",
     "text": [
      "Train Loss: 0.0689\n"
     ]
    },
    {
     "name": "stderr",
     "output_type": "stream",
     "text": [
      "\n"
     ]
    },
    {
     "name": "stdout",
     "output_type": "stream",
     "text": [
      "Validation Loss: 0.0906, Validation F1: 0.8933\n",
      "Epoch 12/35\n"
     ]
    },
    {
     "name": "stderr",
     "output_type": "stream",
     "text": [
      "Training: 100%|██████████| 90/90 [00:05<00:00, 15.72it/s]"
     ]
    },
    {
     "name": "stdout",
     "output_type": "stream",
     "text": [
      "Train Loss: 0.0653\n"
     ]
    },
    {
     "name": "stderr",
     "output_type": "stream",
     "text": [
      "\n"
     ]
    },
    {
     "name": "stdout",
     "output_type": "stream",
     "text": [
      "Validation Loss: 0.0914, Validation F1: 0.8963\n",
      "Epoch 13/35\n"
     ]
    },
    {
     "name": "stderr",
     "output_type": "stream",
     "text": [
      "Training: 100%|██████████| 90/90 [00:05<00:00, 16.16it/s]"
     ]
    },
    {
     "name": "stdout",
     "output_type": "stream",
     "text": [
      "Train Loss: 0.0623\n"
     ]
    },
    {
     "name": "stderr",
     "output_type": "stream",
     "text": [
      "\n"
     ]
    },
    {
     "name": "stdout",
     "output_type": "stream",
     "text": [
      "Validation Loss: 0.0885, Validation F1: 0.8977\n",
      "Epoch 14/35\n"
     ]
    },
    {
     "name": "stderr",
     "output_type": "stream",
     "text": [
      "Training: 100%|██████████| 90/90 [00:05<00:00, 15.72it/s]"
     ]
    },
    {
     "name": "stdout",
     "output_type": "stream",
     "text": [
      "Train Loss: 0.0603\n"
     ]
    },
    {
     "name": "stderr",
     "output_type": "stream",
     "text": [
      "\n"
     ]
    },
    {
     "name": "stdout",
     "output_type": "stream",
     "text": [
      "Validation Loss: 0.0884, Validation F1: 0.8984\n",
      "Epoch 15/35\n"
     ]
    },
    {
     "name": "stderr",
     "output_type": "stream",
     "text": [
      "Training: 100%|██████████| 90/90 [00:05<00:00, 16.51it/s]"
     ]
    },
    {
     "name": "stdout",
     "output_type": "stream",
     "text": [
      "Train Loss: 0.0570\n"
     ]
    },
    {
     "name": "stderr",
     "output_type": "stream",
     "text": [
      "\n"
     ]
    },
    {
     "name": "stdout",
     "output_type": "stream",
     "text": [
      "Validation Loss: 0.0861, Validation F1: 0.9043\n",
      "Epoch 16/35\n"
     ]
    },
    {
     "name": "stderr",
     "output_type": "stream",
     "text": [
      "Training: 100%|██████████| 90/90 [00:05<00:00, 15.94it/s]"
     ]
    },
    {
     "name": "stdout",
     "output_type": "stream",
     "text": [
      "Train Loss: 0.0548\n"
     ]
    },
    {
     "name": "stderr",
     "output_type": "stream",
     "text": [
      "\n"
     ]
    },
    {
     "name": "stdout",
     "output_type": "stream",
     "text": [
      "Validation Loss: 0.0868, Validation F1: 0.9015\n",
      "Epoch 17/35\n"
     ]
    },
    {
     "name": "stderr",
     "output_type": "stream",
     "text": [
      "Training: 100%|██████████| 90/90 [00:05<00:00, 16.38it/s]"
     ]
    },
    {
     "name": "stdout",
     "output_type": "stream",
     "text": [
      "Train Loss: 0.0533\n"
     ]
    },
    {
     "name": "stderr",
     "output_type": "stream",
     "text": [
      "\n"
     ]
    },
    {
     "name": "stdout",
     "output_type": "stream",
     "text": [
      "Validation Loss: 0.0839, Validation F1: 0.9069\n",
      "Epoch 18/35\n"
     ]
    },
    {
     "name": "stderr",
     "output_type": "stream",
     "text": [
      "Training: 100%|██████████| 90/90 [00:05<00:00, 16.28it/s]"
     ]
    },
    {
     "name": "stdout",
     "output_type": "stream",
     "text": [
      "Train Loss: 0.0528\n"
     ]
    },
    {
     "name": "stderr",
     "output_type": "stream",
     "text": [
      "\n"
     ]
    },
    {
     "name": "stdout",
     "output_type": "stream",
     "text": [
      "Validation Loss: 0.0852, Validation F1: 0.9079\n",
      "Epoch 19/35\n"
     ]
    },
    {
     "name": "stderr",
     "output_type": "stream",
     "text": [
      "Training: 100%|██████████| 90/90 [00:05<00:00, 16.67it/s]"
     ]
    },
    {
     "name": "stdout",
     "output_type": "stream",
     "text": [
      "Train Loss: 0.0509\n"
     ]
    },
    {
     "name": "stderr",
     "output_type": "stream",
     "text": [
      "\n"
     ]
    },
    {
     "name": "stdout",
     "output_type": "stream",
     "text": [
      "Validation Loss: 0.0865, Validation F1: 0.9070\n",
      "Epoch 20/35\n"
     ]
    },
    {
     "name": "stderr",
     "output_type": "stream",
     "text": [
      "Training: 100%|██████████| 90/90 [00:05<00:00, 15.85it/s]"
     ]
    },
    {
     "name": "stdout",
     "output_type": "stream",
     "text": [
      "Train Loss: 0.0490\n"
     ]
    },
    {
     "name": "stderr",
     "output_type": "stream",
     "text": [
      "\n"
     ]
    },
    {
     "name": "stdout",
     "output_type": "stream",
     "text": [
      "Validation Loss: 0.0840, Validation F1: 0.9074\n",
      "Epoch 21/35\n"
     ]
    },
    {
     "name": "stderr",
     "output_type": "stream",
     "text": [
      "Training: 100%|██████████| 90/90 [00:05<00:00, 16.01it/s]"
     ]
    },
    {
     "name": "stdout",
     "output_type": "stream",
     "text": [
      "Train Loss: 0.0472\n"
     ]
    },
    {
     "name": "stderr",
     "output_type": "stream",
     "text": [
      "\n"
     ]
    },
    {
     "name": "stdout",
     "output_type": "stream",
     "text": [
      "Validation Loss: 0.0859, Validation F1: 0.9049\n",
      "Epoch 22/35\n"
     ]
    },
    {
     "name": "stderr",
     "output_type": "stream",
     "text": [
      "Training: 100%|██████████| 90/90 [00:05<00:00, 15.84it/s]"
     ]
    },
    {
     "name": "stdout",
     "output_type": "stream",
     "text": [
      "Train Loss: 0.0465\n"
     ]
    },
    {
     "name": "stderr",
     "output_type": "stream",
     "text": [
      "\n"
     ]
    },
    {
     "name": "stdout",
     "output_type": "stream",
     "text": [
      "Validation Loss: 0.0837, Validation F1: 0.9101\n",
      "Epoch 23/35\n"
     ]
    },
    {
     "name": "stderr",
     "output_type": "stream",
     "text": [
      "Training: 100%|██████████| 90/90 [00:05<00:00, 16.03it/s]"
     ]
    },
    {
     "name": "stdout",
     "output_type": "stream",
     "text": [
      "Train Loss: 0.0446\n"
     ]
    },
    {
     "name": "stderr",
     "output_type": "stream",
     "text": [
      "\n"
     ]
    },
    {
     "name": "stdout",
     "output_type": "stream",
     "text": [
      "Validation Loss: 0.0860, Validation F1: 0.9056\n",
      "Epoch 24/35\n"
     ]
    },
    {
     "name": "stderr",
     "output_type": "stream",
     "text": [
      "Training: 100%|██████████| 90/90 [00:05<00:00, 15.83it/s]"
     ]
    },
    {
     "name": "stdout",
     "output_type": "stream",
     "text": [
      "Train Loss: 0.0445\n"
     ]
    },
    {
     "name": "stderr",
     "output_type": "stream",
     "text": [
      "\n"
     ]
    },
    {
     "name": "stdout",
     "output_type": "stream",
     "text": [
      "Validation Loss: 0.0838, Validation F1: 0.9097\n",
      "Epoch 25/35\n"
     ]
    },
    {
     "name": "stderr",
     "output_type": "stream",
     "text": [
      "Training: 100%|██████████| 90/90 [00:05<00:00, 15.73it/s]"
     ]
    },
    {
     "name": "stdout",
     "output_type": "stream",
     "text": [
      "Train Loss: 0.0437\n"
     ]
    },
    {
     "name": "stderr",
     "output_type": "stream",
     "text": [
      "\n"
     ]
    },
    {
     "name": "stdout",
     "output_type": "stream",
     "text": [
      "Validation Loss: 0.0842, Validation F1: 0.9073\n",
      "Epoch 26/35\n"
     ]
    },
    {
     "name": "stderr",
     "output_type": "stream",
     "text": [
      "Training: 100%|██████████| 90/90 [00:05<00:00, 16.06it/s]"
     ]
    },
    {
     "name": "stdout",
     "output_type": "stream",
     "text": [
      "Train Loss: 0.0429\n"
     ]
    },
    {
     "name": "stderr",
     "output_type": "stream",
     "text": [
      "\n"
     ]
    },
    {
     "name": "stdout",
     "output_type": "stream",
     "text": [
      "Validation Loss: 0.0863, Validation F1: 0.9055\n",
      "Epoch 27/35\n"
     ]
    },
    {
     "name": "stderr",
     "output_type": "stream",
     "text": [
      "Training: 100%|██████████| 90/90 [00:05<00:00, 15.88it/s]"
     ]
    },
    {
     "name": "stdout",
     "output_type": "stream",
     "text": [
      "Train Loss: 0.0426\n"
     ]
    },
    {
     "name": "stderr",
     "output_type": "stream",
     "text": [
      "\n"
     ]
    },
    {
     "name": "stdout",
     "output_type": "stream",
     "text": [
      "Validation Loss: 0.0872, Validation F1: 0.9084\n",
      "Epoch 28/35\n"
     ]
    },
    {
     "name": "stderr",
     "output_type": "stream",
     "text": [
      "Training: 100%|██████████| 90/90 [00:05<00:00, 15.86it/s]"
     ]
    },
    {
     "name": "stdout",
     "output_type": "stream",
     "text": [
      "Train Loss: 0.0415\n"
     ]
    },
    {
     "name": "stderr",
     "output_type": "stream",
     "text": [
      "\n"
     ]
    },
    {
     "name": "stdout",
     "output_type": "stream",
     "text": [
      "Validation Loss: 0.0867, Validation F1: 0.9088\n",
      "Epoch 29/35\n"
     ]
    },
    {
     "name": "stderr",
     "output_type": "stream",
     "text": [
      "Training: 100%|██████████| 90/90 [00:05<00:00, 16.25it/s]"
     ]
    },
    {
     "name": "stdout",
     "output_type": "stream",
     "text": [
      "Train Loss: 0.0412\n"
     ]
    },
    {
     "name": "stderr",
     "output_type": "stream",
     "text": [
      "\n"
     ]
    },
    {
     "name": "stdout",
     "output_type": "stream",
     "text": [
      "Validation Loss: 0.0845, Validation F1: 0.9104\n",
      "Epoch 30/35\n"
     ]
    },
    {
     "name": "stderr",
     "output_type": "stream",
     "text": [
      "Training: 100%|██████████| 90/90 [00:05<00:00, 15.57it/s]"
     ]
    },
    {
     "name": "stdout",
     "output_type": "stream",
     "text": [
      "Train Loss: 0.0404\n"
     ]
    },
    {
     "name": "stderr",
     "output_type": "stream",
     "text": [
      "\n"
     ]
    },
    {
     "name": "stdout",
     "output_type": "stream",
     "text": [
      "Validation Loss: 0.0839, Validation F1: 0.9109\n",
      "Epoch 31/35\n"
     ]
    },
    {
     "name": "stderr",
     "output_type": "stream",
     "text": [
      "Training: 100%|██████████| 90/90 [00:05<00:00, 15.95it/s]"
     ]
    },
    {
     "name": "stdout",
     "output_type": "stream",
     "text": [
      "Train Loss: 0.0404\n"
     ]
    },
    {
     "name": "stderr",
     "output_type": "stream",
     "text": [
      "\n"
     ]
    },
    {
     "name": "stdout",
     "output_type": "stream",
     "text": [
      "Validation Loss: 0.0839, Validation F1: 0.9102\n",
      "Epoch 32/35\n"
     ]
    },
    {
     "name": "stderr",
     "output_type": "stream",
     "text": [
      "Training: 100%|██████████| 90/90 [00:05<00:00, 15.59it/s]\n"
     ]
    },
    {
     "name": "stdout",
     "output_type": "stream",
     "text": [
      "Train Loss: 0.0395\n",
      "Validation Loss: 0.0855, Validation F1: 0.9113\n",
      "Epoch 33/35\n"
     ]
    },
    {
     "name": "stderr",
     "output_type": "stream",
     "text": [
      "Training: 100%|██████████| 90/90 [00:05<00:00, 15.80it/s]"
     ]
    },
    {
     "name": "stdout",
     "output_type": "stream",
     "text": [
      "Train Loss: 0.0392\n"
     ]
    },
    {
     "name": "stderr",
     "output_type": "stream",
     "text": [
      "\n"
     ]
    },
    {
     "name": "stdout",
     "output_type": "stream",
     "text": [
      "Validation Loss: 0.0831, Validation F1: 0.9122\n",
      "Epoch 34/35\n"
     ]
    },
    {
     "name": "stderr",
     "output_type": "stream",
     "text": [
      "Training: 100%|██████████| 90/90 [00:05<00:00, 16.33it/s]"
     ]
    },
    {
     "name": "stdout",
     "output_type": "stream",
     "text": [
      "Train Loss: 0.0390\n"
     ]
    },
    {
     "name": "stderr",
     "output_type": "stream",
     "text": [
      "\n"
     ]
    },
    {
     "name": "stdout",
     "output_type": "stream",
     "text": [
      "Validation Loss: 0.0850, Validation F1: 0.9091\n",
      "Epoch 35/35\n"
     ]
    },
    {
     "name": "stderr",
     "output_type": "stream",
     "text": [
      "Training: 100%|██████████| 90/90 [00:05<00:00, 16.05it/s]"
     ]
    },
    {
     "name": "stdout",
     "output_type": "stream",
     "text": [
      "Train Loss: 0.0387\n"
     ]
    },
    {
     "name": "stderr",
     "output_type": "stream",
     "text": [
      "\n"
     ]
    },
    {
     "name": "stdout",
     "output_type": "stream",
     "text": [
      "Validation Loss: 0.0858, Validation F1: 0.9126\n",
      "Validation Accuracy for Fold 1: 0.6228\n",
      "Fold 2/5\n",
      "Epoch 1/35\n"
     ]
    },
    {
     "name": "stderr",
     "output_type": "stream",
     "text": [
      "Training: 100%|██████████| 90/90 [00:05<00:00, 15.98it/s]"
     ]
    },
    {
     "name": "stdout",
     "output_type": "stream",
     "text": [
      "Train Loss: 0.0513\n"
     ]
    },
    {
     "name": "stderr",
     "output_type": "stream",
     "text": [
      "\n"
     ]
    },
    {
     "name": "stdout",
     "output_type": "stream",
     "text": [
      "Validation Loss: 0.0345, Validation F1: 0.9620\n",
      "Epoch 2/35\n"
     ]
    },
    {
     "name": "stderr",
     "output_type": "stream",
     "text": [
      "Training: 100%|██████████| 90/90 [00:05<00:00, 15.63it/s]"
     ]
    },
    {
     "name": "stdout",
     "output_type": "stream",
     "text": [
      "Train Loss: 0.0493\n"
     ]
    },
    {
     "name": "stderr",
     "output_type": "stream",
     "text": [
      "\n"
     ]
    },
    {
     "name": "stdout",
     "output_type": "stream",
     "text": [
      "Validation Loss: 0.0338, Validation F1: 0.9623\n",
      "Epoch 3/35\n"
     ]
    },
    {
     "name": "stderr",
     "output_type": "stream",
     "text": [
      "Training: 100%|██████████| 90/90 [00:05<00:00, 15.94it/s]"
     ]
    },
    {
     "name": "stdout",
     "output_type": "stream",
     "text": [
      "Train Loss: 0.0490\n"
     ]
    },
    {
     "name": "stderr",
     "output_type": "stream",
     "text": [
      "\n"
     ]
    },
    {
     "name": "stdout",
     "output_type": "stream",
     "text": [
      "Validation Loss: 0.0345, Validation F1: 0.9618\n",
      "Epoch 4/35\n"
     ]
    },
    {
     "name": "stderr",
     "output_type": "stream",
     "text": [
      "Training: 100%|██████████| 90/90 [00:05<00:00, 16.02it/s]"
     ]
    },
    {
     "name": "stdout",
     "output_type": "stream",
     "text": [
      "Train Loss: 0.0482\n"
     ]
    },
    {
     "name": "stderr",
     "output_type": "stream",
     "text": [
      "\n"
     ]
    },
    {
     "name": "stdout",
     "output_type": "stream",
     "text": [
      "Validation Loss: 0.0358, Validation F1: 0.9603\n",
      "Epoch 5/35\n"
     ]
    },
    {
     "name": "stderr",
     "output_type": "stream",
     "text": [
      "Training: 100%|██████████| 90/90 [00:05<00:00, 16.35it/s]"
     ]
    },
    {
     "name": "stdout",
     "output_type": "stream",
     "text": [
      "Train Loss: 0.0485\n"
     ]
    },
    {
     "name": "stderr",
     "output_type": "stream",
     "text": [
      "\n"
     ]
    },
    {
     "name": "stdout",
     "output_type": "stream",
     "text": [
      "Validation Loss: 0.0362, Validation F1: 0.9618\n",
      "Epoch 6/35\n"
     ]
    },
    {
     "name": "stderr",
     "output_type": "stream",
     "text": [
      "Training: 100%|██████████| 90/90 [00:05<00:00, 15.51it/s]"
     ]
    },
    {
     "name": "stdout",
     "output_type": "stream",
     "text": [
      "Train Loss: 0.0478\n"
     ]
    },
    {
     "name": "stderr",
     "output_type": "stream",
     "text": [
      "\n"
     ]
    },
    {
     "name": "stdout",
     "output_type": "stream",
     "text": [
      "Validation Loss: 0.0346, Validation F1: 0.9638\n",
      "Epoch 7/35\n"
     ]
    },
    {
     "name": "stderr",
     "output_type": "stream",
     "text": [
      "Training: 100%|██████████| 90/90 [00:05<00:00, 15.93it/s]"
     ]
    },
    {
     "name": "stdout",
     "output_type": "stream",
     "text": [
      "Train Loss: 0.0464\n"
     ]
    },
    {
     "name": "stderr",
     "output_type": "stream",
     "text": [
      "\n"
     ]
    },
    {
     "name": "stdout",
     "output_type": "stream",
     "text": [
      "Validation Loss: 0.0355, Validation F1: 0.9611\n",
      "Epoch 8/35\n"
     ]
    },
    {
     "name": "stderr",
     "output_type": "stream",
     "text": [
      "Training: 100%|██████████| 90/90 [00:05<00:00, 15.66it/s]"
     ]
    },
    {
     "name": "stdout",
     "output_type": "stream",
     "text": [
      "Train Loss: 0.0479\n"
     ]
    },
    {
     "name": "stderr",
     "output_type": "stream",
     "text": [
      "\n"
     ]
    },
    {
     "name": "stdout",
     "output_type": "stream",
     "text": [
      "Validation Loss: 0.0355, Validation F1: 0.9605\n",
      "Epoch 9/35\n"
     ]
    },
    {
     "name": "stderr",
     "output_type": "stream",
     "text": [
      "Training: 100%|██████████| 90/90 [00:05<00:00, 15.92it/s]"
     ]
    },
    {
     "name": "stdout",
     "output_type": "stream",
     "text": [
      "Train Loss: 0.0468\n"
     ]
    },
    {
     "name": "stderr",
     "output_type": "stream",
     "text": [
      "\n"
     ]
    },
    {
     "name": "stdout",
     "output_type": "stream",
     "text": [
      "Validation Loss: 0.0361, Validation F1: 0.9598\n",
      "Epoch 10/35\n"
     ]
    },
    {
     "name": "stderr",
     "output_type": "stream",
     "text": [
      "Training: 100%|██████████| 90/90 [00:05<00:00, 15.93it/s]"
     ]
    },
    {
     "name": "stdout",
     "output_type": "stream",
     "text": [
      "Train Loss: 0.0462\n"
     ]
    },
    {
     "name": "stderr",
     "output_type": "stream",
     "text": [
      "\n"
     ]
    },
    {
     "name": "stdout",
     "output_type": "stream",
     "text": [
      "Validation Loss: 0.0353, Validation F1: 0.9607\n",
      "Epoch 11/35\n"
     ]
    },
    {
     "name": "stderr",
     "output_type": "stream",
     "text": [
      "Training: 100%|██████████| 90/90 [00:05<00:00, 15.79it/s]"
     ]
    },
    {
     "name": "stdout",
     "output_type": "stream",
     "text": [
      "Train Loss: 0.0463\n"
     ]
    },
    {
     "name": "stderr",
     "output_type": "stream",
     "text": [
      "\n"
     ]
    },
    {
     "name": "stdout",
     "output_type": "stream",
     "text": [
      "Validation Loss: 0.0364, Validation F1: 0.9589\n",
      "Epoch 12/35\n"
     ]
    },
    {
     "name": "stderr",
     "output_type": "stream",
     "text": [
      "Training: 100%|██████████| 90/90 [00:05<00:00, 15.98it/s]"
     ]
    },
    {
     "name": "stdout",
     "output_type": "stream",
     "text": [
      "Train Loss: 0.0470\n"
     ]
    },
    {
     "name": "stderr",
     "output_type": "stream",
     "text": [
      "\n"
     ]
    },
    {
     "name": "stdout",
     "output_type": "stream",
     "text": [
      "Validation Loss: 0.0365, Validation F1: 0.9578\n",
      "Epoch 13/35\n"
     ]
    },
    {
     "name": "stderr",
     "output_type": "stream",
     "text": [
      "Training: 100%|██████████| 90/90 [00:05<00:00, 15.97it/s]"
     ]
    },
    {
     "name": "stdout",
     "output_type": "stream",
     "text": [
      "Train Loss: 0.0466\n"
     ]
    },
    {
     "name": "stderr",
     "output_type": "stream",
     "text": [
      "\n"
     ]
    },
    {
     "name": "stdout",
     "output_type": "stream",
     "text": [
      "Validation Loss: 0.0359, Validation F1: 0.9590\n",
      "Early stopping triggered.\n",
      "Validation Accuracy for Fold 2: 0.8048\n",
      "Fold 3/5\n",
      "Epoch 1/35\n"
     ]
    },
    {
     "name": "stderr",
     "output_type": "stream",
     "text": [
      "Training: 100%|██████████| 90/90 [00:05<00:00, 16.34it/s]"
     ]
    },
    {
     "name": "stdout",
     "output_type": "stream",
     "text": [
      "Train Loss: 0.0482\n"
     ]
    },
    {
     "name": "stderr",
     "output_type": "stream",
     "text": [
      "\n"
     ]
    },
    {
     "name": "stdout",
     "output_type": "stream",
     "text": [
      "Validation Loss: 0.0345, Validation F1: 0.9640\n",
      "Epoch 2/35\n"
     ]
    },
    {
     "name": "stderr",
     "output_type": "stream",
     "text": [
      "Training: 100%|██████████| 90/90 [00:05<00:00, 15.80it/s]"
     ]
    },
    {
     "name": "stdout",
     "output_type": "stream",
     "text": [
      "Train Loss: 0.0472\n"
     ]
    },
    {
     "name": "stderr",
     "output_type": "stream",
     "text": [
      "\n"
     ]
    },
    {
     "name": "stdout",
     "output_type": "stream",
     "text": [
      "Validation Loss: 0.0347, Validation F1: 0.9606\n",
      "Epoch 3/35\n"
     ]
    },
    {
     "name": "stderr",
     "output_type": "stream",
     "text": [
      "Training: 100%|██████████| 90/90 [00:05<00:00, 16.00it/s]"
     ]
    },
    {
     "name": "stdout",
     "output_type": "stream",
     "text": [
      "Train Loss: 0.0467\n"
     ]
    },
    {
     "name": "stderr",
     "output_type": "stream",
     "text": [
      "\n"
     ]
    },
    {
     "name": "stdout",
     "output_type": "stream",
     "text": [
      "Validation Loss: 0.0355, Validation F1: 0.9596\n",
      "Epoch 4/35\n"
     ]
    },
    {
     "name": "stderr",
     "output_type": "stream",
     "text": [
      "Training: 100%|██████████| 90/90 [00:05<00:00, 16.10it/s]"
     ]
    },
    {
     "name": "stdout",
     "output_type": "stream",
     "text": [
      "Train Loss: 0.0471\n"
     ]
    },
    {
     "name": "stderr",
     "output_type": "stream",
     "text": [
      "\n"
     ]
    },
    {
     "name": "stdout",
     "output_type": "stream",
     "text": [
      "Validation Loss: 0.0344, Validation F1: 0.9642\n",
      "Epoch 5/35\n"
     ]
    },
    {
     "name": "stderr",
     "output_type": "stream",
     "text": [
      "Training: 100%|██████████| 90/90 [00:05<00:00, 16.09it/s]"
     ]
    },
    {
     "name": "stdout",
     "output_type": "stream",
     "text": [
      "Train Loss: 0.0469\n"
     ]
    },
    {
     "name": "stderr",
     "output_type": "stream",
     "text": [
      "\n"
     ]
    },
    {
     "name": "stdout",
     "output_type": "stream",
     "text": [
      "Validation Loss: 0.0337, Validation F1: 0.9626\n",
      "Epoch 6/35\n"
     ]
    },
    {
     "name": "stderr",
     "output_type": "stream",
     "text": [
      "Training: 100%|██████████| 90/90 [00:05<00:00, 15.83it/s]"
     ]
    },
    {
     "name": "stdout",
     "output_type": "stream",
     "text": [
      "Train Loss: 0.0468\n"
     ]
    },
    {
     "name": "stderr",
     "output_type": "stream",
     "text": [
      "\n"
     ]
    },
    {
     "name": "stdout",
     "output_type": "stream",
     "text": [
      "Validation Loss: 0.0352, Validation F1: 0.9594\n",
      "Epoch 7/35\n"
     ]
    },
    {
     "name": "stderr",
     "output_type": "stream",
     "text": [
      "Training: 100%|██████████| 90/90 [00:05<00:00, 15.94it/s]"
     ]
    },
    {
     "name": "stdout",
     "output_type": "stream",
     "text": [
      "Train Loss: 0.0465\n"
     ]
    },
    {
     "name": "stderr",
     "output_type": "stream",
     "text": [
      "\n"
     ]
    },
    {
     "name": "stdout",
     "output_type": "stream",
     "text": [
      "Validation Loss: 0.0348, Validation F1: 0.9625\n",
      "Epoch 8/35\n"
     ]
    },
    {
     "name": "stderr",
     "output_type": "stream",
     "text": [
      "Training: 100%|██████████| 90/90 [00:05<00:00, 15.41it/s]"
     ]
    },
    {
     "name": "stdout",
     "output_type": "stream",
     "text": [
      "Train Loss: 0.0477\n"
     ]
    },
    {
     "name": "stderr",
     "output_type": "stream",
     "text": [
      "\n"
     ]
    },
    {
     "name": "stdout",
     "output_type": "stream",
     "text": [
      "Validation Loss: 0.0353, Validation F1: 0.9610\n",
      "Epoch 9/35\n"
     ]
    },
    {
     "name": "stderr",
     "output_type": "stream",
     "text": [
      "Training: 100%|██████████| 90/90 [00:05<00:00, 16.09it/s]"
     ]
    },
    {
     "name": "stdout",
     "output_type": "stream",
     "text": [
      "Train Loss: 0.0474\n"
     ]
    },
    {
     "name": "stderr",
     "output_type": "stream",
     "text": [
      "\n"
     ]
    },
    {
     "name": "stdout",
     "output_type": "stream",
     "text": [
      "Validation Loss: 0.0349, Validation F1: 0.9600\n",
      "Epoch 10/35\n"
     ]
    },
    {
     "name": "stderr",
     "output_type": "stream",
     "text": [
      "Training: 100%|██████████| 90/90 [00:05<00:00, 15.55it/s]"
     ]
    },
    {
     "name": "stdout",
     "output_type": "stream",
     "text": [
      "Train Loss: 0.0463\n"
     ]
    },
    {
     "name": "stderr",
     "output_type": "stream",
     "text": [
      "\n"
     ]
    },
    {
     "name": "stdout",
     "output_type": "stream",
     "text": [
      "Validation Loss: 0.0348, Validation F1: 0.9596\n",
      "Epoch 11/35\n"
     ]
    },
    {
     "name": "stderr",
     "output_type": "stream",
     "text": [
      "Training: 100%|██████████| 90/90 [00:05<00:00, 15.75it/s]"
     ]
    },
    {
     "name": "stdout",
     "output_type": "stream",
     "text": [
      "Train Loss: 0.0469\n"
     ]
    },
    {
     "name": "stderr",
     "output_type": "stream",
     "text": [
      "\n"
     ]
    },
    {
     "name": "stdout",
     "output_type": "stream",
     "text": [
      "Validation Loss: 0.0355, Validation F1: 0.9620\n",
      "Early stopping triggered.\n",
      "Validation Accuracy for Fold 3: 0.8160\n",
      "Fold 4/5\n",
      "Epoch 1/35\n"
     ]
    },
    {
     "name": "stderr",
     "output_type": "stream",
     "text": [
      "Training: 100%|██████████| 90/90 [00:05<00:00, 15.85it/s]"
     ]
    },
    {
     "name": "stdout",
     "output_type": "stream",
     "text": [
      "Train Loss: 0.0474\n"
     ]
    },
    {
     "name": "stderr",
     "output_type": "stream",
     "text": [
      "\n"
     ]
    },
    {
     "name": "stdout",
     "output_type": "stream",
     "text": [
      "Validation Loss: 0.0331, Validation F1: 0.9648\n",
      "Epoch 2/35\n"
     ]
    },
    {
     "name": "stderr",
     "output_type": "stream",
     "text": [
      "Training: 100%|██████████| 90/90 [00:05<00:00, 16.00it/s]"
     ]
    },
    {
     "name": "stdout",
     "output_type": "stream",
     "text": [
      "Train Loss: 0.0468\n"
     ]
    },
    {
     "name": "stderr",
     "output_type": "stream",
     "text": [
      "\n"
     ]
    },
    {
     "name": "stdout",
     "output_type": "stream",
     "text": [
      "Validation Loss: 0.0340, Validation F1: 0.9631\n",
      "Epoch 3/35\n"
     ]
    },
    {
     "name": "stderr",
     "output_type": "stream",
     "text": [
      "Training: 100%|██████████| 90/90 [00:05<00:00, 15.59it/s]"
     ]
    },
    {
     "name": "stdout",
     "output_type": "stream",
     "text": [
      "Train Loss: 0.0474\n"
     ]
    },
    {
     "name": "stderr",
     "output_type": "stream",
     "text": [
      "\n"
     ]
    },
    {
     "name": "stdout",
     "output_type": "stream",
     "text": [
      "Validation Loss: 0.0336, Validation F1: 0.9638\n",
      "Epoch 4/35\n"
     ]
    },
    {
     "name": "stderr",
     "output_type": "stream",
     "text": [
      "Training: 100%|██████████| 90/90 [00:05<00:00, 15.72it/s]"
     ]
    },
    {
     "name": "stdout",
     "output_type": "stream",
     "text": [
      "Train Loss: 0.0476\n"
     ]
    },
    {
     "name": "stderr",
     "output_type": "stream",
     "text": [
      "\n"
     ]
    },
    {
     "name": "stdout",
     "output_type": "stream",
     "text": [
      "Validation Loss: 0.0338, Validation F1: 0.9628\n",
      "Epoch 5/35\n"
     ]
    },
    {
     "name": "stderr",
     "output_type": "stream",
     "text": [
      "Training: 100%|██████████| 90/90 [00:05<00:00, 15.52it/s]"
     ]
    },
    {
     "name": "stdout",
     "output_type": "stream",
     "text": [
      "Train Loss: 0.0475\n"
     ]
    },
    {
     "name": "stderr",
     "output_type": "stream",
     "text": [
      "\n"
     ]
    },
    {
     "name": "stdout",
     "output_type": "stream",
     "text": [
      "Validation Loss: 0.0339, Validation F1: 0.9617\n",
      "Epoch 6/35\n"
     ]
    },
    {
     "name": "stderr",
     "output_type": "stream",
     "text": [
      "Training: 100%|██████████| 90/90 [00:05<00:00, 15.79it/s]"
     ]
    },
    {
     "name": "stdout",
     "output_type": "stream",
     "text": [
      "Train Loss: 0.0470\n"
     ]
    },
    {
     "name": "stderr",
     "output_type": "stream",
     "text": [
      "\n"
     ]
    },
    {
     "name": "stdout",
     "output_type": "stream",
     "text": [
      "Validation Loss: 0.0336, Validation F1: 0.9624\n",
      "Epoch 7/35\n"
     ]
    },
    {
     "name": "stderr",
     "output_type": "stream",
     "text": [
      "Training: 100%|██████████| 90/90 [00:05<00:00, 15.98it/s]"
     ]
    },
    {
     "name": "stdout",
     "output_type": "stream",
     "text": [
      "Train Loss: 0.0472\n"
     ]
    },
    {
     "name": "stderr",
     "output_type": "stream",
     "text": [
      "\n"
     ]
    },
    {
     "name": "stdout",
     "output_type": "stream",
     "text": [
      "Validation Loss: 0.0329, Validation F1: 0.9647\n",
      "Epoch 8/35\n"
     ]
    },
    {
     "name": "stderr",
     "output_type": "stream",
     "text": [
      "Training: 100%|██████████| 90/90 [00:05<00:00, 15.77it/s]"
     ]
    },
    {
     "name": "stdout",
     "output_type": "stream",
     "text": [
      "Train Loss: 0.0481\n"
     ]
    },
    {
     "name": "stderr",
     "output_type": "stream",
     "text": [
      "\n"
     ]
    },
    {
     "name": "stdout",
     "output_type": "stream",
     "text": [
      "Validation Loss: 0.0334, Validation F1: 0.9641\n",
      "Early stopping triggered.\n",
      "Validation Accuracy for Fold 4: 0.8160\n",
      "Fold 5/5\n",
      "Epoch 1/35\n"
     ]
    },
    {
     "name": "stderr",
     "output_type": "stream",
     "text": [
      "Training: 100%|██████████| 90/90 [00:05<00:00, 15.56it/s]\n"
     ]
    },
    {
     "name": "stdout",
     "output_type": "stream",
     "text": [
      "Train Loss: 0.0481\n",
      "Validation Loss: 0.0315, Validation F1: 0.9677\n",
      "Epoch 2/35\n"
     ]
    },
    {
     "name": "stderr",
     "output_type": "stream",
     "text": [
      "Training: 100%|██████████| 90/90 [00:05<00:00, 15.38it/s]"
     ]
    },
    {
     "name": "stdout",
     "output_type": "stream",
     "text": [
      "Train Loss: 0.0469\n"
     ]
    },
    {
     "name": "stderr",
     "output_type": "stream",
     "text": [
      "\n"
     ]
    },
    {
     "name": "stdout",
     "output_type": "stream",
     "text": [
      "Validation Loss: 0.0327, Validation F1: 0.9632\n",
      "Epoch 3/35\n"
     ]
    },
    {
     "name": "stderr",
     "output_type": "stream",
     "text": [
      "Training: 100%|██████████| 90/90 [00:05<00:00, 16.43it/s]"
     ]
    },
    {
     "name": "stdout",
     "output_type": "stream",
     "text": [
      "Train Loss: 0.0471\n"
     ]
    },
    {
     "name": "stderr",
     "output_type": "stream",
     "text": [
      "\n"
     ]
    },
    {
     "name": "stdout",
     "output_type": "stream",
     "text": [
      "Validation Loss: 0.0337, Validation F1: 0.9611\n",
      "Epoch 4/35\n"
     ]
    },
    {
     "name": "stderr",
     "output_type": "stream",
     "text": [
      "Training: 100%|██████████| 90/90 [00:05<00:00, 16.45it/s]"
     ]
    },
    {
     "name": "stdout",
     "output_type": "stream",
     "text": [
      "Train Loss: 0.0477\n"
     ]
    },
    {
     "name": "stderr",
     "output_type": "stream",
     "text": [
      "\n"
     ]
    },
    {
     "name": "stdout",
     "output_type": "stream",
     "text": [
      "Validation Loss: 0.0324, Validation F1: 0.9648\n",
      "Epoch 5/35\n"
     ]
    },
    {
     "name": "stderr",
     "output_type": "stream",
     "text": [
      "Training: 100%|██████████| 90/90 [00:05<00:00, 15.84it/s]"
     ]
    },
    {
     "name": "stdout",
     "output_type": "stream",
     "text": [
      "Train Loss: 0.0479\n"
     ]
    },
    {
     "name": "stderr",
     "output_type": "stream",
     "text": [
      "\n"
     ]
    },
    {
     "name": "stdout",
     "output_type": "stream",
     "text": [
      "Validation Loss: 0.0327, Validation F1: 0.9653\n",
      "Epoch 6/35\n"
     ]
    },
    {
     "name": "stderr",
     "output_type": "stream",
     "text": [
      "Training: 100%|██████████| 90/90 [00:05<00:00, 15.58it/s]"
     ]
    },
    {
     "name": "stdout",
     "output_type": "stream",
     "text": [
      "Train Loss: 0.0466\n"
     ]
    },
    {
     "name": "stderr",
     "output_type": "stream",
     "text": [
      "\n"
     ]
    },
    {
     "name": "stdout",
     "output_type": "stream",
     "text": [
      "Validation Loss: 0.0338, Validation F1: 0.9651\n",
      "Epoch 7/35\n"
     ]
    },
    {
     "name": "stderr",
     "output_type": "stream",
     "text": [
      "Training: 100%|██████████| 90/90 [00:05<00:00, 15.49it/s]"
     ]
    },
    {
     "name": "stdout",
     "output_type": "stream",
     "text": [
      "Train Loss: 0.0468\n"
     ]
    },
    {
     "name": "stderr",
     "output_type": "stream",
     "text": [
      "\n"
     ]
    },
    {
     "name": "stdout",
     "output_type": "stream",
     "text": [
      "Validation Loss: 0.0334, Validation F1: 0.9620\n",
      "Epoch 8/35\n"
     ]
    },
    {
     "name": "stderr",
     "output_type": "stream",
     "text": [
      "Training: 100%|██████████| 90/90 [00:05<00:00, 15.10it/s]"
     ]
    },
    {
     "name": "stdout",
     "output_type": "stream",
     "text": [
      "Train Loss: 0.0475\n"
     ]
    },
    {
     "name": "stderr",
     "output_type": "stream",
     "text": [
      "\n"
     ]
    },
    {
     "name": "stdout",
     "output_type": "stream",
     "text": [
      "Validation Loss: 0.0339, Validation F1: 0.9612\n",
      "Early stopping triggered.\n",
      "Validation Accuracy for Fold 5: 0.8116\n",
      "\n",
      "Average Accuracy over all folds: 0.7742\n"
     ]
    }
   ],
   "source": [
    "# --- Train/Test Loops ---\n",
    "# Training loop\n",
    "def train_loop(model, train_loader, optimizer, loss_fn, device):\n",
    "    # Set model to train mode\n",
    "    model.train()\n",
    "    \n",
    "    # Initialize\n",
    "    running_loss = 0.0\n",
    "    all_preds = []\n",
    "    all_labels = []\n",
    "    \n",
    "    # for images, labels, _ in train_loader:\n",
    "    for images, labels, _ in tqdm(train_loader, desc=\"Training\"):\n",
    "        # shift to cuda\n",
    "        images = images.to(device)\n",
    "        labels = labels.to(device)\n",
    "        \n",
    "        # Zero the parameter gradients \n",
    "        optimizer.zero_grad()\n",
    "        \n",
    "        # Forward pass\n",
    "        outputs = model(images)\n",
    "        loss = loss_fn(outputs, labels)\n",
    "        \n",
    "        # Backward pass and optimize\n",
    "        loss.backward()\n",
    "        optimizer.step()\n",
    "        \n",
    "        # Track predictions and labels for metrics calculation\n",
    "        running_loss += loss.item() * images.size(0)\n",
    "        all_preds.append(outputs)\n",
    "        all_labels.append(labels)\n",
    "    \n",
    "    # Average loss\n",
    "    avg_loss = running_loss / len(train_loader.dataset)\n",
    "    \n",
    "    return avg_loss\n",
    "\n",
    "# test loop\n",
    "def test_loop(model, test_loader, loss_fn, device):\n",
    "    # Set model to evaluation mode\n",
    "    model.eval()\n",
    "    \n",
    "    # Initialize\n",
    "    running_loss = 0.0\n",
    "    all_preds = []\n",
    "    all_labels = []\n",
    "    \n",
    "    with torch.no_grad():\n",
    "        for images, labels, _ in test_loader:\n",
    "        # for images, labels, _ in tqdm(val_loader, desc=\"Validating\"):\n",
    "            # Store labels since they won't be altered\n",
    "            # all_labels.append(labels.numpy())\n",
    "            \n",
    "            # Shift to cuda\n",
    "            images = images.to(device)\n",
    "            labels = labels.to(device)\n",
    "            \n",
    "            # Forward pass\n",
    "            outputs = model(images)\n",
    "            \n",
    "            # Get metrics\n",
    "            loss = loss_fn(outputs, labels)\n",
    "            running_loss += loss.item() * images.size(0)\n",
    "            \n",
    "            # Sigmoid activation to get probabilities, then threshold at 0.5 for binary classification\n",
    "            preds = torch.sigmoid(outputs) > 0.5 \n",
    "            # preds = (torch.sigmoid(outputs) > 0.5).int()  # Apply sigmoid and threshold at 0.5\n",
    "\n",
    "            # Store (numpy for easier processing later)\n",
    "            all_preds.append(preds.cpu().numpy())\n",
    "            all_labels.append(labels.cpu().numpy())\n",
    "\n",
    "    # Calculate average loss\n",
    "    avg_loss = running_loss / len(test_loader.dataset)\n",
    "\n",
    "    # Convert lists of predictions and labels into a 2D array where each row is a sample, each column is a biomarker\n",
    "    all_preds = np.concatenate(all_preds, axis=0)  # Shape: (num_samples, num_biomarkers)\n",
    "    all_labels = np.concatenate(all_labels, axis=0)  # Shape: (num_samples, num_biomarkers)\n",
    "    \n",
    "    # Calculate F1 score for each biomarker (column) independently\n",
    "#     f1_scores = []\n",
    "#     for i in range(all_labels.shape[1]):  # Iterate over each biomarker\n",
    "#         f1 = f1_score(all_labels[:, i], all_preds[:, i], average='binary')  # Compute F1 score for the ith biomarker\n",
    "#         f1_scores.append(f1)\n",
    "\n",
    "    # Average loss\n",
    "    val_loss = running_loss / len(test_loader.dataset)\n",
    "    # return val_loss, f1_scores, all_preds, all_labels\n",
    "    return val_loss, all_preds, all_labels\n",
    "\n",
    "\n",
    "# --- Cross-Validation ---\n",
    "\n",
    "# Initialize object to split dataset in kfold\n",
    "kfold = KFold(n_splits=k_folds, shuffle=True, random_state=0)\n",
    "\n",
    "fold_metrics = []\n",
    "    \n",
    "for fold, (train_idx, val_idx) in enumerate(kfold.split(train_dataset)):\n",
    "    print(f\"Fold {fold+1}/{k_folds}\")\n",
    "\n",
    "    # Split the training dataset into training and validation folds\n",
    "    train_fold = Subset(train_dataset, train_idx)\n",
    "    val_fold = Subset(train_dataset, val_idx)\n",
    "    \n",
    "    # Set up Dataloaders\n",
    "    train_loader = DataLoader(train_fold, batch_size=batch_size, shuffle=True, num_workers=num_workers, pin_memory=True)\n",
    "    val_loader = DataLoader(val_fold, batch_size=batch_size, shuffle=False, num_workers=num_workers, pin_memory=True)\n",
    "\n",
    "    # Reset parameters\n",
    "    best_val_loss = float('inf')\n",
    "    best_val_f1 = 0.0\n",
    "    counter_NoImprovement = 0\n",
    "\n",
    "    for epoch in range(num_epochs):\n",
    "    # for epoch in tqdm(range(num_epochs), desc=\"Training Epochs\", unit=\"epoch\"):\n",
    "        print(f\"Epoch {epoch+1}/{num_epochs}\")\n",
    "\n",
    "        # Train the model for one epoch\n",
    "        train_loss = train_loop(model, train_loader, optimizer, loss_fn, device)\n",
    "        print(f\"Train Loss: {train_loss:.4f}\")\n",
    "\n",
    "        # Validate the model after training using validation fold\n",
    "        val_loss, all_preds, all_labels = test_loop(model, val_loader, loss_fn, device)\n",
    "        val_f1 = f1_score(all_labels, all_preds, average='weighted', zero_division=0)\n",
    "        print(f\"Validation Loss: {val_loss:.4f}, Validation F1: {val_f1:.4f}\")\n",
    "        \n",
    "        # Update learning rate\n",
    "        scheduler.step()\n",
    "        \n",
    "        # Early stopping logic: Check if F1 improved\n",
    "        if val_f1 > best_val_f1:\n",
    "            best_val_f1 = val_f1\n",
    "            no_improvement = 0  # Reset counter\n",
    "            torch.save(model.state_dict(), f\"ModelWeights_TempSaves/best_{model.name}_fold_{fold+1}.pth\")\n",
    "        else:\n",
    "            no_improvement += 1\n",
    "\n",
    "        # Stop training if no improvement for 'patience' epochs\n",
    "        if no_improvement >= patience:\n",
    "            print(\"Early stopping triggered.\")\n",
    "            break\n",
    "        \n",
    "#         # Save the best model based on validation loss\n",
    "#         if val_loss < best_val_loss:\n",
    "#             best_val_loss = val_loss\n",
    "#             torch.save(model.state_dict(), f\"ModelWeights_TempSaves/best_{model.name}_fold_{fold+1}.pth\")\n",
    "\n",
    "    # Load the weights of the model with the best validationg loss\n",
    "    model.load_state_dict(torch.load(f\"ModelWeights_TempSaves/best_{model.name}_fold_{fold+1}.pth\", weights_only=True))\n",
    " \n",
    "    # Get Accuracy\n",
    "    # preds = (torch.sigmoid(torch.tensor(all_preds)) > 0.5).int()  # Apply sigmoid and threshold at 0.5\n",
    "    val_accuracy = accuracy_score(all_labels, all_preds)\n",
    "    fold_metrics.append(val_accuracy)\n",
    "    print(f\"Validation Accuracy for Fold {fold+1}: {val_accuracy:.4f}\")\n",
    "\n",
    "avg_accuracy = np.mean(fold_metrics)\n",
    "print(f\"\\nAverage Accuracy over all folds: {avg_accuracy:.4f}\")\n"
   ]
  },
  {
   "cell_type": "markdown",
   "id": "cfa20ebd",
   "metadata": {},
   "source": [
    "Now Test"
   ]
  },
  {
   "cell_type": "code",
   "execution_count": 4,
   "id": "b0ce68ba",
   "metadata": {
    "scrolled": false
   },
   "outputs": [
    {
     "name": "stderr",
     "output_type": "stream",
     "text": [
      "Evaluating: 100%|██████████| 112/112 [00:02<00:00, 37.34batch/s]\n"
     ]
    },
    {
     "name": "stdout",
     "output_type": "stream",
     "text": [
      "Classification Report:\n",
      "              precision    recall  f1-score   support\n",
      "\n",
      "           0       0.96      0.68      0.80        69\n",
      "           1       0.91      0.73      0.81       516\n",
      "           2       1.00      0.79      0.88        29\n",
      "           3       0.94      0.71      0.81       277\n",
      "           4       0.94      0.92      0.93      4699\n",
      "           5       0.98      0.98      0.98      2130\n",
      "           6       1.00      0.99      0.99      4068\n",
      "           7       0.98      0.96      0.97       677\n",
      "           8       0.90      0.91      0.90      2102\n",
      "           9       0.00      0.00      0.00         7\n",
      "          10       0.98      0.99      0.98      2285\n",
      "          11       0.96      0.95      0.95      3028\n",
      "          12       0.99      0.94      0.97       180\n",
      "          13       0.00      0.00      0.00         9\n",
      "          14       1.00      0.60      0.75        10\n",
      "          15       0.83      0.33      0.47        57\n",
      "\n",
      "   micro avg       0.96      0.94      0.95     20143\n",
      "   macro avg       0.84      0.72      0.76     20143\n",
      "weighted avg       0.96      0.94      0.95     20143\n",
      " samples avg       0.93      0.92      0.92     20143\n",
      "\n"
     ]
    }
   ],
   "source": [
    "# ============================\n",
    "# 5. Evaluation\n",
    "# ============================\n",
    "\n",
    "def sigmoid(x):\n",
    "    return 1 / (1 + np.exp(-x))\n",
    "\n",
    "def evaluate_model(model, loader):\n",
    "    model.eval()\n",
    "    y_true, y_pred = [], []\n",
    "    with torch.no_grad():\n",
    "        for batch in tqdm(loader, desc=\"Evaluating\", unit=\"batch\"):\n",
    "            if not batch:  # Handle empty batches\n",
    "                continue\n",
    "\n",
    "            images, labels, clinical_data = batch\n",
    "            images, labels = images.to(device), labels.to(device)\n",
    "            outputs = model(images) # .logits\n",
    "            y_true.append(labels.cpu().numpy())\n",
    "            y_pred.append(outputs.cpu().numpy())\n",
    "    y_true = np.vstack(y_true)\n",
    "    y_pred = np.vstack(y_pred)\n",
    "    return y_true, y_pred\n",
    "\n",
    "# Evaluate\n",
    "y_true, y_pred = evaluate_model(model, testloader)\n",
    "\n",
    "# Convert predicted probabilities to binary predictions\n",
    "y_pred_binary = (sigmoid(y_pred) > 0.5).astype(int)\n",
    "# y_pred_binary = (y_pred > 0.5).astype(int)\n",
    "\n",
    "# Ensure `y_true` is binary\n",
    "y_true_binary = (y_true > 0.5).astype(int)\n",
    "\n",
    "# Metrics\n",
    "report = classification_report(y_true_binary, y_pred_binary,zero_division=0)\n",
    "report_data = classification_report(y_true_binary, y_pred_binary, output_dict=True,zero_division=0) # this is not clean to print but easier to extract\n",
    "weighted_f1 = report_data['weighted avg']['f1-score']\n",
    "samples_f1 = report_data['samples avg']['f1-score']\n",
    "print(\"Classification Report:\")\n",
    "print(report)\n",
    "\n",
    "# Store the predicitons in a csv file\n",
    "# get the biomarker names\n",
    "BiomarkerLabel_df = pd.read_csv('OLIVES_Dataset_Labels/BiomarkerLabel_train_data.csv')\n",
    "biomarkers = BiomarkerLabel_df.columns[2:18] # Extract label columns names (biomarkers)\n",
    "\n",
    "# Convert the predictions into a pandas DataFrame with biomarker names as columns\n",
    "df_predictions = pd.DataFrame(y_pred_binary, columns=biomarkers)\n",
    "\n",
    "# Add the \"Index\" name (as the row index)\n",
    "df_predictions.insert(0, \"Index\", df_predictions.index.to_series().apply(lambda x: f\"{x+1:04d}\"))\n",
    "\n",
    "# Save the DataFrame to a CSV file\n",
    "df_predictions.to_csv(\"predictions_biomarkers.csv\",  index=False)"
   ]
  },
  {
   "cell_type": "markdown",
   "id": "2a246399",
   "metadata": {},
   "source": [
    "Save the trained model"
   ]
  },
  {
   "cell_type": "code",
   "execution_count": 5,
   "id": "cfde68d0",
   "metadata": {
    "scrolled": true
   },
   "outputs": [],
   "source": [
    "# Save model weights to a file\n",
    "torch.save(model.state_dict(), f\"TrainedModels/{model.name}/{model.name}_f1weighted{weighted_f1:.4f}_k{k_folds}_e{num_epochs}_p{patience}_weights.pth\")\n",
    "# torch.save(model.state_dict(), f\"TrainedModels/{model.name}/{model.name}_f1samples{samples_f1:.4f}_k{k_folds}_e{num_epochs}_p{patience}_weights.pth\")"
   ]
  },
  {
   "cell_type": "markdown",
   "id": "bedf3a57",
   "metadata": {
    "scrolled": true
   },
   "source": [
    "Even more evaluation"
   ]
  },
  {
   "cell_type": "code",
   "execution_count": 13,
   "id": "06295f94",
   "metadata": {},
   "outputs": [
    {
     "name": "stdout",
     "output_type": "stream",
     "text": [
      "Evaluating Model without Clinical Data...\n",
      "Evaluating Scan-Level Metrics...\n",
      "Plotting Combined Confusion Matrix for Scan-Level Predictions...\n"
     ]
    },
    {
     "data": {
      "text/plain": [
       "<Figure size 600x400 with 0 Axes>"
      ]
     },
     "metadata": {},
     "output_type": "display_data"
    },
    {
     "data": {
      "image/png": "[encoded data removed]",
      "text/plain": [
       "<Figure size 640x480 with 2 Axes>"
      ]
     },
     "metadata": {},
     "output_type": "display_data"
    },
    {
     "name": "stdout",
     "output_type": "stream",
     "text": [
      "                           Biomarker       AUC  Precision    Recall        F1\n",
      "0                            Atrophy  0.994803   0.976190  0.594203  0.738739\n",
      "1                   Disruption of EZ  0.990680   0.928767  0.656977  0.769580\n",
      "2                               DRIL  0.998144   1.000000  0.724138  0.840000\n",
      "3                     IR hemorrhages  0.987277   0.962963  0.657040  0.781116\n",
      "4                             IR HRF  0.971151   0.961054  0.892743  0.925640\n",
      "5   Partially attached vitreous face  0.998967   0.990463  0.975117  0.982730\n",
      "6       Fully attached vitreous face  0.999516   0.997013  0.984759  0.990848\n",
      "7       Preretinal tissue/hemorrhage  0.999520   0.989181  0.945347  0.966767\n",
      "8                    Vitreous debris  0.983433   0.928177  0.879163  0.903005\n",
      "9                                VMT  1.000000   0.000000  0.000000  0.000000\n",
      "10                            DRT/ME  0.999404   0.988506  0.978556  0.983506\n",
      "11                       Fluid (IRF)  0.993391   0.970236  0.936592  0.953117\n",
      "12                       Fluid (SRF)  0.999743   0.993976  0.916667  0.953757\n",
      "13                 Disruption of RPE  0.998848   0.000000  0.000000  0.000000\n",
      "14                      PED (serous)  1.000000   1.000000  0.400000  0.571429\n",
      "15                              SHRM  0.981676   0.823529  0.245614  0.378378\n",
      "Evaluating Eye-Level Metrics...\n",
      "Plotting Combined Confusion Matrix for Eye-Level Predictions...\n"
     ]
    },
    {
     "data": {
      "text/plain": [
       "<Figure size 600x400 with 0 Axes>"
      ]
     },
     "metadata": {},
     "output_type": "display_data"
    },
    {
     "data": {
      "image/png": "[encoded data removed]",
      "text/plain": [
       "<Figure size 640x480 with 2 Axes>"
      ]
     },
     "metadata": {},
     "output_type": "display_data"
    },
    {
     "name": "stdout",
     "output_type": "stream",
     "text": [
      "                           Biomarker       AUC  Precision    Recall        F1\n",
      "0                            Atrophy       NaN   0.000000  0.000000  0.000000\n",
      "1                   Disruption of EZ  1.000000   0.000000  0.000000  0.000000\n",
      "2                               DRIL       NaN   0.000000  0.000000  0.000000\n",
      "3                     IR hemorrhages  1.000000   1.000000  1.000000  1.000000\n",
      "4                             IR HRF  1.000000   1.000000  0.947368  0.972973\n",
      "5   Partially attached vitreous face  1.000000   0.904762  1.000000  0.950000\n",
      "6       Fully attached vitreous face  1.000000   1.000000  1.000000  1.000000\n",
      "7       Preretinal tissue/hemorrhage  1.000000   1.000000  0.750000  0.857143\n",
      "8                    Vitreous debris  0.997696   0.777778  1.000000  0.875000\n",
      "9                                VMT       NaN   0.000000  0.000000  0.000000\n",
      "10                            DRT/ME  1.000000   1.000000  0.823529  0.903226\n",
      "11                       Fluid (IRF)  0.987681   0.906250  0.966667  0.935484\n",
      "12                       Fluid (SRF)       NaN   0.000000  0.000000  0.000000\n",
      "13                 Disruption of RPE       NaN   0.000000  0.000000  0.000000\n",
      "14                      PED (serous)       NaN   0.000000  0.000000  0.000000\n",
      "15                              SHRM       NaN   0.000000  0.000000  0.000000\n"
     ]
    },
    {
     "data": {
      "image/png": "[encoded data removed]",
      "text/plain": [
       "<Figure size 1200x600 with 1 Axes>"
      ]
     },
     "metadata": {},
     "output_type": "display_data"
    },
    {
     "data": {
      "image/png": "[encoded data removed]",
      "text/plain": [
       "<Figure size 1200x600 with 1 Axes>"
      ]
     },
     "metadata": {},
     "output_type": "display_data"
    },
    {
     "name": "stdout",
     "output_type": "stream",
     "text": [
      "\n",
      "Ablation Study Results:\n",
      "Clinical Data Impact on Biomarker Detection\n",
      "                           Biomarker  F1 without Clinical Data\n",
      "0                            Atrophy                  0.738739\n",
      "1                   Disruption of EZ                  0.769580\n",
      "2                               DRIL                  0.840000\n",
      "3                     IR hemorrhages                  0.781116\n",
      "4                             IR HRF                  0.925640\n",
      "5   Partially attached vitreous face                  0.982730\n",
      "6       Fully attached vitreous face                  0.990848\n",
      "7       Preretinal tissue/hemorrhage                  0.966767\n",
      "8                    Vitreous debris                  0.903005\n",
      "9                                VMT                  0.000000\n",
      "10                            DRT/ME                  0.983506\n",
      "11                       Fluid (IRF)                  0.953117\n",
      "12                       Fluid (SRF)                  0.953757\n",
      "13                 Disruption of RPE                  0.000000\n",
      "14                      PED (serous)                  0.571429\n",
      "15                              SHRM                  0.378378\n"
     ]
    },
    {
     "data": {
      "image/png": "[encoded data removed]",
      "text/plain": [
       "<Figure size 1200x600 with 1 Axes>"
      ]
     },
     "metadata": {},
     "output_type": "display_data"
    }
   ],
   "source": [
    "# Evaluation Function\n",
    "def evaluate_model(model, loader, labels):\n",
    "    \"\"\"\n",
    "    Evaluate the model and calculate metrics at the scan level.\n",
    "    \"\"\"\n",
    "    model.eval()\n",
    "    y_true, y_pred, eye_ids = [], [], []\n",
    "    with torch.no_grad():\n",
    "        for images, labels, clinical_data in loader:\n",
    "            images, labels, clinical_data = (\n",
    "                images.to(device),\n",
    "                labels.to(device),\n",
    "                clinical_data.to(device),\n",
    "            )\n",
    "            outputs = model(images)\n",
    "            y_true.append(labels.cpu().numpy())\n",
    "            y_pred.append(outputs.cpu().numpy())\n",
    "            if clinical_data.size(1) > 0:  # Ensure Eye_ID exists\n",
    "                eye_ids.append(clinical_data[:, 0].cpu().numpy())\n",
    "            else:\n",
    "                eye_ids.append([])  # No Eye_ID if no clinical data\n",
    "    return np.vstack(y_true), np.vstack(y_pred), np.concatenate(eye_ids)\n",
    "\n",
    "# Aggregation Function for Eye-Level Metrics\n",
    "def aggregate_by_eye(y_true, y_pred, eye_ids):\n",
    "    \"\"\"\n",
    "    Aggregate predictions and labels at the eye level.\n",
    "    \"\"\"\n",
    "    unique_eye_ids = np.unique(eye_ids)\n",
    "    eye_level_true = []\n",
    "    eye_level_pred = []\n",
    "    for eye_id in unique_eye_ids:\n",
    "        mask = eye_ids == eye_id\n",
    "        eye_level_true.append(y_true[mask].mean(axis=0))\n",
    "        eye_level_pred.append(y_pred[mask].mean(axis=0))\n",
    "    return np.array(eye_level_true), np.array(eye_level_pred)\n",
    "\n",
    "from sklearn.metrics import roc_auc_score, classification_report\n",
    "\n",
    "def compute_metrics(y_true, y_pred, labels):\n",
    "    \"\"\"\n",
    "    Compute classification metrics for each biomarker.\n",
    "    Args:\n",
    "        y_true (ndarray or Tensor): True labels.\n",
    "        y_pred (ndarray or Tensor): Predicted probabilities.\n",
    "        labels (list): Biomarker names.\n",
    "    Returns:\n",
    "        metrics_df (DataFrame): DataFrame with per-biomarker metrics.\n",
    "    \"\"\"\n",
    "    # Ensure tensors are moved to CPU and converted to NumPy\n",
    "    if isinstance(y_true, torch.Tensor):\n",
    "        y_true = y_true.cpu().numpy()\n",
    "    if isinstance(y_pred, torch.Tensor):\n",
    "        y_pred = y_pred.cpu().numpy()\n",
    "\n",
    "    # Threshold y_true to ensure binary values\n",
    "    y_true = (y_true > 0.5).astype(int)\n",
    "\n",
    "    num_biomarkers = min(len(labels), y_true.shape[1])\n",
    "    metrics = {\"Biomarker\": [], \"AUC\": [], \"Precision\": [], \"Recall\": [], \"F1\": []}\n",
    "\n",
    "    for i in range(num_biomarkers):\n",
    "        label = labels[i]\n",
    "\n",
    "        # Check if y_true contains both classes\n",
    "        if len(np.unique(y_true[:, i])) < 2:\n",
    "            # Skip AUC calculation for constant labels\n",
    "            metrics[\"Biomarker\"].append(label)\n",
    "            metrics[\"AUC\"].append(None)  # Undefined AUC\n",
    "            metrics[\"Precision\"].append(0.0)\n",
    "            metrics[\"Recall\"].append(0.0)\n",
    "            metrics[\"F1\"].append(0.0)\n",
    "            continue\n",
    "\n",
    "        # Calculate metrics\n",
    "        auc = roc_auc_score(y_true[:, i], y_pred[:, i])\n",
    "        report = classification_report(\n",
    "            y_true[:, i], (y_pred[:, i] > 0.5).astype(int), output_dict=True, zero_division=0\n",
    "        )\n",
    "        metrics[\"Biomarker\"].append(label)\n",
    "        metrics[\"AUC\"].append(auc)\n",
    "        metrics[\"Precision\"].append(report[\"1\"][\"precision\"])\n",
    "        metrics[\"Recall\"].append(report[\"1\"][\"recall\"])\n",
    "        metrics[\"F1\"].append(report[\"1\"][\"f1-score\"])\n",
    "    return pd.DataFrame(metrics)\n",
    "\n",
    "# Plotting Metrics\n",
    "def plot_metrics(metrics_df, title):\n",
    "    \"\"\"\n",
    "    Plot metrics as bar plots.\n",
    "    \"\"\"\n",
    "    plt.figure(figsize=(12, 6))\n",
    "    x = range(len(metrics_df))\n",
    "    plt.bar(x, metrics_df[\"AUC\"], label=\"AUC\", alpha=0.8)\n",
    "    plt.bar(x, metrics_df[\"F1\"], label=\"F1 Score\", alpha=0.8)\n",
    "    plt.xticks(x, metrics_df[\"Biomarker\"], rotation=45, ha=\"right\")\n",
    "    plt.xlabel(\"Biomarkers\")\n",
    "    plt.ylabel(\"Metrics\")\n",
    "    plt.title(title)\n",
    "    plt.legend()\n",
    "    plt.tight_layout()\n",
    "    plt.show()\n",
    "    \n",
    "\n",
    "# Plot ROC-AUC Curves\n",
    "def plot_roc_auc_curves(y_true, y_pred, labels):\n",
    "    plt.figure(figsize=(12, 8))\n",
    "    for i, label in enumerate(labels):\n",
    "        if len(np.unique(y_true[:, i])) < 2:\n",
    "            continue  # Skip biomarkers with no positive samples\n",
    "        fpr, tpr, _ = roc_curve(y_true[:, i], y_pred[:, i])\n",
    "        plt.plot(fpr, tpr, label=f\"{label} (AUC = {auc(fpr, tpr):.2f})\")\n",
    "    plt.plot([0, 1], [0, 1], linestyle=\"--\", color=\"gray\")\n",
    "    plt.xlabel(\"False Positive Rate\")\n",
    "    plt.ylabel(\"True Positive Rate\")\n",
    "    plt.title(\"ROC-AUC Curves\")\n",
    "    plt.legend()\n",
    "    plt.show()\n",
    "\n",
    "\n",
    "from sklearn.metrics import confusion_matrix, ConfusionMatrixDisplay\n",
    "\n",
    "# Biomarker Labels\n",
    "labels = [\n",
    "    \"Atrophy\", \"Disruption of EZ\", \"DRIL\", \"IR hemorrhages\", \"IR HRF\",\n",
    "    \"Partially attached vitreous face\", \"Fully attached vitreous face\",\n",
    "    \"Preretinal tissue/hemorrhage\", \"Vitreous debris\", \"VMT\",\"DRT/ME\", \"Fluid (IRF)\",\"Fluid (SRF)\", \"Disruption of RPE\",\n",
    "     \"PED (serous)\", \"SHRM\"\n",
    "]\n",
    "\n",
    "# Function to compute and plot a single confusion matrix for all biomarkers\n",
    "def plot_combined_confusion_matrix(y_true, y_pred, title=\"Combined Confusion Matrix\"):\n",
    "    \"\"\"\n",
    "    Create and plot a single confusion matrix for all biomarkers.\n",
    "    Args:\n",
    "        y_true (ndarray): Ground truth binary labels for all biomarkers.\n",
    "        y_pred (ndarray): Predicted probabilities for all biomarkers.\n",
    "        title (str): Title for the confusion matrix plot.\n",
    "    \"\"\"\n",
    "    # Flatten all biomarkers into a single dimension for combined confusion matrix\n",
    "    y_true_combined = (y_true > 0.5).astype(int).ravel()  # Ensure binary labels\n",
    "    y_pred_combined = (y_pred > 0.5).astype(int).ravel()  # Threshold predictions\n",
    "\n",
    "    # Compute confusion matrix\n",
    "    combined_matrix = confusion_matrix(y_true_combined, y_pred_combined)\n",
    "\n",
    "    # Plot the confusion matrix\n",
    "    plt.figure(figsize=(6, 4))\n",
    "    disp = ConfusionMatrixDisplay(confusion_matrix=combined_matrix, display_labels=[\"Negative\", \"Positive\"])\n",
    "    disp.plot(cmap=\"Blues\", values_format=\"d\")\n",
    "    plt.title(title)\n",
    "    plt.show()\n",
    "\n",
    "\n",
    "# Update the evaluation function to include combined confusion matrix\n",
    "# Evaluate and Aggregate Results\n",
    "def evaluate_with_eye_aggregation(model, loader, labels):\n",
    "    \"\"\"\n",
    "    Evaluate model performance with and without eye-level aggregation.\n",
    "    \"\"\"\n",
    "    print(\"Evaluating Scan-Level Metrics...\")\n",
    "    y_true, y_pred, eye_ids = evaluate_model(model, loader, labels)\n",
    "\n",
    "    # Compute combined confusion matrix for scan-level predictions\n",
    "    print(\"Plotting Combined Confusion Matrix for Scan-Level Predictions...\")\n",
    "    plot_combined_confusion_matrix(y_true, y_pred, \"Scan-Level Combined Confusion Matrix\")\n",
    "\n",
    "    # Scan-Level Metrics\n",
    "    scan_metrics = compute_metrics(y_true, y_pred, labels)\n",
    "    print(scan_metrics)\n",
    "\n",
    "    # Eye-Level Metrics\n",
    "    eye_metrics = None\n",
    "    if len(eye_ids) > 0:\n",
    "        print(\"Evaluating Eye-Level Metrics...\")\n",
    "        eye_true, eye_pred = aggregate_by_eye(y_true, y_pred, eye_ids)\n",
    "\n",
    "        # Compute combined confusion matrix for eye-level predictions\n",
    "        print(\"Plotting Combined Confusion Matrix for Eye-Level Predictions...\")\n",
    "        plot_combined_confusion_matrix(eye_true, eye_pred, \"Eye-Level Combined Confusion Matrix\")\n",
    "\n",
    "        eye_metrics = compute_metrics(eye_true, eye_pred, labels)\n",
    "        print(eye_metrics)\n",
    "\n",
    "    return scan_metrics, eye_metrics\n",
    "\n",
    "\n",
    "# Evaluate Models\n",
    "\n",
    "\n",
    "print(\"Evaluating Model without Clinical Data...\")\n",
    "scan_metrics_no_clinical, eye_metrics_no_clinical = evaluate_with_eye_aggregation(\n",
    "    model, testloader, labels\n",
    ")\n",
    "\n",
    "# Plot Results\n",
    "plot_metrics(scan_metrics_no_clinical, \"Scan-Level Metrics without Clinical Data\")\n",
    "if eye_metrics_no_clinical is not None:\n",
    "    plot_metrics(eye_metrics_no_clinical, \"Eye-Level Metrics without Clinical Data\")\n",
    "\n",
    "# Ablation Study\n",
    "print(\"\\nAblation Study Results:\")\n",
    "print(\"Clinical Data Impact on Biomarker Detection\")\n",
    "comparison = pd.DataFrame({\n",
    "    \"Biomarker\": labels,\n",
    "    # \"F1 with Clinical Data\": scan_metrics_clinical[\"F1\"],\n",
    "    \"F1 without Clinical Data\": scan_metrics_no_clinical[\"F1\"],\n",
    "})\n",
    "print(comparison)\n",
    "comparison.plot(x=\"Biomarker\", kind=\"bar\", figsize=(12, 6), title=\"Ablation Study: F1 Scores Comparison\")\n",
    "plt.xlabel(\"Biomarkers\")\n",
    "plt.ylabel(\"F1 Score\")\n",
    "plt.tight_layout()\n",
    "plt.show()\n"
   ]
  },
  {
   "cell_type": "code",
   "execution_count": null,
   "id": "687a947d",
   "metadata": {},
   "outputs": [],
   "source": []
  }
 ],
 "metadata": {
  "kernelspec": {
   "display_name": "Python 3 (ipykernel)",
   "language": "python",
   "name": "python3"
  },
  "language_info": {
   "codemirror_mode": {
    "name": "ipython",
    "version": 3
   },
   "file_extension": ".py",
   "mimetype": "text/x-python",
   "name": "python",
   "nbconvert_exporter": "python",
   "pygments_lexer": "ipython3",
   "version": "3.10.12"
  }
 },
 "nbformat": 4,
 "nbformat_minor": 5
}
